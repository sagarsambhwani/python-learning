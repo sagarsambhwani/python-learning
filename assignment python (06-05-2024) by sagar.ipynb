{
 "cells": [
  {
   "cell_type": "code",
   "execution_count": 21,
   "id": "bdf52d20",
   "metadata": {},
   "outputs": [],
   "source": [
    "def lcm(x,y):\n",
    "    i=1\n",
    "    while(True):\n",
    "        if i%x==0 and i%y==0:\n",
    "            print(i)\n",
    "            break\n",
    "        i+=1\n",
    "        "
   ]
  },
  {
   "cell_type": "code",
   "execution_count": 22,
   "id": "5dea3ce9",
   "metadata": {},
   "outputs": [
    {
     "name": "stdout",
     "output_type": "stream",
     "text": [
      "84\n"
     ]
    }
   ],
   "source": [
    "lcm(12,14)"
   ]
  },
  {
   "cell_type": "code",
   "execution_count": 20,
   "id": "b52ef551",
   "metadata": {},
   "outputs": [
    {
     "name": "stdout",
     "output_type": "stream",
     "text": [
      "1\n",
      "2\n",
      "3\n",
      "5\n",
      "7\n"
     ]
    }
   ],
   "source": [
    "def prime(n):\n",
    "    for i in range(1,n):\n",
    "        flag =0\n",
    "        for j in range(2,i):\n",
    "            if(i%j==0):\n",
    "                flag = 1\n",
    "        if(flag==0):\n",
    "                print(i)\n",
    "                \n",
    "            \n",
    "prime(10)"
   ]
  },
  {
   "cell_type": "code",
   "execution_count": 12,
   "id": "45ef44e7",
   "metadata": {},
   "outputs": [
    {
     "name": "stdout",
     "output_type": "stream",
     "text": [
      "* * * * * \n",
      " * * * \n",
      "  * \n"
     ]
    }
   ],
   "source": [
    "def pattern(num):\n",
    "    for i in range(1,num+1):\n",
    "        print(\" \"*(i-1),end=\"\")\n",
    "        for j in range(1,num+2-i):\n",
    "            print(\"*\",end=\" \")\n",
    "        for k in range(1,num+1-i):\n",
    "            print(\"*\",end=\" \")\n",
    "        print()\n",
    "    \n",
    "pattern(3)\n",
    "        \n"
   ]
  },
  {
   "cell_type": "code",
   "execution_count": null,
   "id": "57465dc4",
   "metadata": {},
   "outputs": [],
   "source": []
  }
 ],
 "metadata": {
  "kernelspec": {
   "display_name": "Python 3 (ipykernel)",
   "language": "python",
   "name": "python3"
  },
  "language_info": {
   "codemirror_mode": {
    "name": "ipython",
    "version": 3
   },
   "file_extension": ".py",
   "mimetype": "text/x-python",
   "name": "python",
   "nbconvert_exporter": "python",
   "pygments_lexer": "ipython3",
   "version": "3.11.5"
  }
 },
 "nbformat": 4,
 "nbformat_minor": 5
}
